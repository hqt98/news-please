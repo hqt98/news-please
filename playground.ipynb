{
 "cells": [
  {
   "cell_type": "code",
   "execution_count": 81,
   "metadata": {},
   "outputs": [],
   "source": [
    "from newsplease import NewsPlease\n",
    "import re\n",
    "\n",
    "article = NewsPlease.from_url('https://www.kalungi.com/blog/10-marketing-kpis-every-b2b-saas-company-should-track')"
   ]
  },
  {
   "cell_type": "code",
   "execution_count": 82,
   "metadata": {},
   "outputs": [],
   "source": [
    "def collapse_newlines(text):\n",
    "    # recursively replace double newlines with one newline\n",
    "    return re.sub(r\"(\\n){3,}\", \"\\n\", text)"
   ]
  },
  {
   "cell_type": "code",
   "execution_count": 85,
   "metadata": {},
   "outputs": [],
   "source": [
    "md = collapse_newlines(article.markdown)"
   ]
  },
  {
   "cell_type": "code",
   "execution_count": 87,
   "metadata": {},
   "outputs": [],
   "source": [
    "plain_text = \"\"\"What metrics and KPIs should be on your SaaS marketing dashboard?\n",
    "Here are the most important SaaS marketing metrics that matter and should form your first SaaS Key Performance Indicators (KPIs).\n",
    "These SaaS KPIs are relatively easy to track, and will provide a great benchmark foundation as you grow and add more detailed metrics.\n",
    "Download our SaaS KPIs dashboard\n",
    "With these KPIs on your SaaS dashboard, you can manage your SaaS marketing function responsibly.\n",
    "Track your critical SaaS KPIs and metrics Get on your way to creating a marketing dashboard that helps you make data-backed decisions, hold your team accountable, and motivate them to succeed.\n",
    "10 SaaS marketing and financial benchmark metrics for your dashboard\n",
    "Software start-ups and enterprise companies alike should focus marketing and sales development around these 10 SaaS metrics that matter:\n",
    "1. Unique Visitors\n",
    "Unique visitor growth is a proxy for being found, being viewed, and your website's reach. You can use simple tools like Google Analytics to get accurate data.\n",
    "2. Contacts\n",
    "Your SaaS contacts are also called \"subscribers\". This is the so-called \"follow me home\" metric and includes everyone who starts to follow you. Your SaaS contacts should include people who:\n",
    "Give you their email as a newsletter subscription\n",
    "Follow your RSS feed, podcast or Video Channel\n",
    "3. Leads\n",
    "SaaS leads are the same as \"contacts\" or email addresses. When you get started, it's sufficient to define these as \"hand-raisers,\" or people who have shown interest in an actual outreach by your SaaS team.\n",
    "Examples of SaaS leads are people who have filled out an explicit \"Contact me\" form, or requested a product demo. Because of this, subscribers to your newsletter or people signed up to get a free gift or eBook don't count as leads.\n",
    "When you get bigger, you should start differentiating your SaaS KPIs as follows:\n",
    "MQL (Marketing Qualified Leads) - These contacts have triggered multiple \"buyer signals\" like downloading product information, visiting a competitive comparison guide or asking for a sales conversation. These are \"qualified\" hand-raisers.\n",
    "SAL (Sales Accepted Leads) - You have reached out to an MQL, and have been able to get in touch. An appointment is scheduled for a phone call with a Sales Development Representative (SDR) for further qualifications.\n",
    "SQL (Sales Qualified Lead) - After the initial meeting (or sometimes the completion of an online questionnaire), these leads have been determined to be ripe for an Account Executive from the sales team to follow up and manage this lead as a sales opportunity. The sales team will now take over accountability from the marketing team and will add data like potential deal value, competitors in play, needs, budget and decision-makers (also see this article on BANT)\n",
    "4. Conversions\n",
    "Try to measure customer conversions through the funnel as granular as possible, as long as your data is accurate and meaningful. Here is a typical prioritized list of conversions to measure as your SaaS dashboard gets more granular:\n",
    "Leads to Customer (Wins) - How is your funnel turning opportunity into customers\n",
    "Leads/MQL to SQL - How are you converting hand-raisers into real opportunities\n",
    "Visitors to Leads - How are you turning traffic into an actual business opportunity?\n",
    "Once you nail down the above three SaaS metrics, you can start measuring every step of the conversion funnel.\n",
    "5. Customer Churn\n",
    "The most important SaaS KPI of all is customer retention, or the opposite, customer churn. Churn levels not only predict your future ability to grow revenue and profitability, but they also tell you if your product has reached Product-Market Fit (PMF) with your audience, and are a good indicator for the quality of your customer onboarding and support performance (Customer Success).\n",
    "Initially, I recommend measuring real customer churn (# of customers churned as % of all paying customers). Don't get confused with concepts like \"negative churn\" where ARPU and revenue growth per customer are being mixed in. These are great SaaS KPIs to worry about later.\n",
    "6. Monthly Recurring Revenue (MRR)\n",
    "This is the total revenue your SaaS company bills monthly. You should pull this straight from your billing system (like Recurly or Chargify).\n",
    "7. Average Revenue Per User (ARPU)\n",
    "SaaS ARPU is also measured as Average Revenue per Customer/Account. Divide your total monthly recurring revenue (MRR) by the total number of paying accounts (customers who have paid their last bill and have a valid payment method status in your billing system for the next billing cycle).\n",
    "8. Life Time Value (LTV)\n",
    "Now that you have ARPU, you can also calculate Customer Life Time Value (LTV) by dividing ARPU by your Churn rate. If your ARPU is $50/Month, and your churn is 0.5%/Month, your Customer LTV equals $50/0.5% = $10,000.\n",
    "9. Customer Acquisition Cost (CAC)\n",
    "Ideally, the CAC includes all your sales and marketing cost, including people. Just divide your marketing and sales spend by the total number of paying customers for a given period of time. Don't overcomplicate this. Be generous and include all costs that you should allocate to your sales and marketing functions.\n",
    "Using, for example, the LTV: CAC ratio to show the ROI on getting new customers is key to determining marketing investments.\n",
    "10. Cost-to-Service (CTS)\n",
    "As you start understanding the all-up cost to service your paying customers, it's time to add this to the dashboard. Include the cost of your Customer Success team (onboarding, support), infrastructure and product (cloud capacity, engineering investments into the service) and the cost of retaining your customers with special programs (loyalty campaigns, incentives, promotions).\n",
    "For a SaaS company, the ongoing cost of running a service is the key to profitability. As you get insights into your CTS you can start targeting the customers who are the ideal customers for your bottom line.\n",
    "Download our SaaS metrics dashboard\n",
    "With these KPIs on your SaaS dashboard, you can manage your SaaS marketing function responsibly.\"\"\""
   ]
  },
  {
   "cell_type": "code",
   "execution_count": 93,
   "metadata": {},
   "outputs": [],
   "source": [
    "def text_overlap_percentage(str1, str2):\n",
    "    \"\"\"\n",
    "    Calculate the text overlap percentage of two strings.\n",
    "\n",
    "    Args:\n",
    "        str1 (str): The first string.\n",
    "        str2 (str): The second string.\n",
    "\n",
    "    Returns:\n",
    "        float: The text overlap percentage (0-100).\n",
    "    \"\"\"\n",
    "    # Convert both strings to sets of words\n",
    "    words1 = set(str1.split())\n",
    "    words2 = set(str2.split())\n",
    "\n",
    "    # Calculate the intersection of the two sets (common words)\n",
    "    common_words = words1 & words2\n",
    "\n",
    "    # Calculate the union of the two sets (all unique words)\n",
    "    all_words = words1 | words2\n",
    "\n",
    "    # Calculate the overlap percentage\n",
    "    overlap_percentage = (len(common_words) / len(all_words)) * 100\n",
    "\n",
    "    return overlap_percentage"
   ]
  },
  {
   "cell_type": "code",
   "execution_count": 94,
   "metadata": {},
   "outputs": [],
   "source": [
    "def should_accept_md_line(plain_line, md_line, overlap_percentage):\n",
    "    min_length = 5  # adjust this value as needed\n",
    "    if len(plain_line) < min_length:\n",
    "        return overlap_percentage > 70  # adjust this value as needed\n",
    "    elif len(plain_line) < 10:\n",
    "        return overlap_percentage > 60  # adjust this value as needed\n",
    "    else:\n",
    "        return overlap_percentage > 50  # adjust this value as needed"
   ]
  },
  {
   "cell_type": "code",
   "execution_count": 97,
   "metadata": {},
   "outputs": [],
   "source": [
    "def extract_main_md_text(plain_text, md):\n",
    "    i_plain = 0\n",
    "    i_md = 0\n",
    "\n",
    "    plain_lines = plain_text.split(\"\\n\")\n",
    "    md_lines = md.split(\"\\n\")\n",
    "\n",
    "    result_lines = []\n",
    "\n",
    "    while i_plain < len(plain_lines):\n",
    "        plain_line = plain_lines[i_plain]\n",
    "        md_line = md_lines[i_md]\n",
    "        overlap_percentage = text_overlap_percentage(plain_line, md_line)\n",
    "        if should_accept_md_line(plain_line, md_line, overlap_percentage):\n",
    "            result_lines.append(md_line)\n",
    "            i_plain += 1\n",
    "\n",
    "        i_md += 1"
   ]
  }
 ],
 "metadata": {
  "kernelspec": {
   "display_name": "a-nCVxNtLs-py3.10",
   "language": "python",
   "name": "python3"
  },
  "language_info": {
   "codemirror_mode": {
    "name": "ipython",
    "version": 3
   },
   "file_extension": ".py",
   "mimetype": "text/x-python",
   "name": "python",
   "nbconvert_exporter": "python",
   "pygments_lexer": "ipython3",
   "version": "3.10.11"
  }
 },
 "nbformat": 4,
 "nbformat_minor": 2
}
